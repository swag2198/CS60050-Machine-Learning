{
 "cells": [
  {
   "cell_type": "code",
   "execution_count": 8,
   "metadata": {},
   "outputs": [],
   "source": [
    "import tensorflow as tf"
   ]
  },
  {
   "cell_type": "code",
   "execution_count": 9,
   "metadata": {},
   "outputs": [],
   "source": [
    "from keras.preprocessing.text import Tokenizer"
   ]
  },
  {
   "cell_type": "code",
   "execution_count": 26,
   "metadata": {},
   "outputs": [],
   "source": [
    "docs = ['iit jee', 'iit kgp', 'electrical', 'engineering is tough!', 'controls and power', 'signals and networks', 'tkb teaches networks at iit']"
   ]
  },
  {
   "cell_type": "code",
   "execution_count": 27,
   "metadata": {},
   "outputs": [
    {
     "name": "stdout",
     "output_type": "stream",
     "text": [
      "iit jee\n"
     ]
    }
   ],
   "source": [
    "print(docs[0])"
   ]
  },
  {
   "cell_type": "code",
   "execution_count": 28,
   "metadata": {},
   "outputs": [],
   "source": [
    "t = Tokenizer()"
   ]
  },
  {
   "cell_type": "code",
   "execution_count": 29,
   "metadata": {},
   "outputs": [],
   "source": [
    "t.fit_on_texts(docs)"
   ]
  },
  {
   "cell_type": "code",
   "execution_count": 30,
   "metadata": {},
   "outputs": [
    {
     "name": "stdout",
     "output_type": "stream",
     "text": [
      "OrderedDict([('iit', 3), ('jee', 1), ('kgp', 1), ('electrical', 1), ('engineering', 1), ('is', 1), ('tough', 1), ('controls', 1), ('and', 2), ('power', 1), ('signals', 1), ('networks', 2), ('tkb', 1), ('teaches', 1), ('at', 1)])\n",
      "-----------------------------\n",
      "{'and': 2, 'iit': 3, 'tough': 1, 'power': 1, 'kgp': 1, 'is': 1, 'controls': 1, 'signals': 1, 'engineering': 1, 'electrical': 1, 'at': 1, 'jee': 1, 'tkb': 1, 'teaches': 1, 'networks': 2}\n",
      "-----------------------------\n",
      "{'and': 2, 'iit': 1, 'tough': 9, 'power': 11, 'kgp': 5, 'is': 8, 'controls': 10, 'signals': 12, 'engineering': 7, 'electrical': 6, 'at': 15, 'jee': 4, 'tkb': 13, 'teaches': 14, 'networks': 3}\n",
      "-----------------------------\n",
      "7\n"
     ]
    }
   ],
   "source": [
    "print(t.word_counts)\n",
    "print('-----------------------------')\n",
    "print(t.word_docs)\n",
    "print('-----------------------------')\n",
    "print(t.word_index)\n",
    "print('-----------------------------')\n",
    "print(t.document_count)"
   ]
  },
  {
   "cell_type": "code",
   "execution_count": null,
   "metadata": {},
   "outputs": [],
   "source": []
  },
  {
   "cell_type": "code",
   "execution_count": null,
   "metadata": {},
   "outputs": [],
   "source": []
  }
 ],
 "metadata": {
  "kernelspec": {
   "display_name": "Python 2",
   "language": "python",
   "name": "python2"
  },
  "language_info": {
   "codemirror_mode": {
    "name": "ipython",
    "version": 2
   },
   "file_extension": ".py",
   "mimetype": "text/x-python",
   "name": "python",
   "nbconvert_exporter": "python",
   "pygments_lexer": "ipython2",
   "version": "2.7.12"
  }
 },
 "nbformat": 4,
 "nbformat_minor": 2
}
