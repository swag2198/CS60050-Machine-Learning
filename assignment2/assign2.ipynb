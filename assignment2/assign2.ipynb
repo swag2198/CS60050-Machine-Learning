{
 "cells": [
  {
   "cell_type": "code",
   "execution_count": 2,
   "metadata": {},
   "outputs": [],
   "source": [
    "from __future__ import print_function, division\n",
    "import numpy as np"
   ]
  },
  {
   "cell_type": "code",
   "execution_count": 39,
   "metadata": {},
   "outputs": [],
   "source": [
    "dataset = np.genfromtxt('data2.csv', delimiter = ',')\n",
    "x = dataset[:, :-1]\n",
    "y = dataset[:, -1]"
   ]
  },
  {
   "cell_type": "code",
   "execution_count": 4,
   "metadata": {},
   "outputs": [
    {
     "name": "stdout",
     "output_type": "stream",
     "text": [
      "[[1. 1. 1. 1. 1. 1. 0. 1. 1.]\n",
      " [1. 1. 1. 1. 1. 1. 0. 0. 1.]\n",
      " [0. 1. 1. 1. 1. 1. 1. 1. 0.]\n",
      " [1. 1. 1. 1. 1. 0. 0. 1. 1.]\n",
      " [1. 1. 1. 1. 1. 0. 0. 0. 1.]\n",
      " [1. 1. 1. 0. 1. 1. 0. 1. 1.]\n",
      " [0. 1. 0. 1. 1. 1. 0. 1. 0.]\n",
      " [1. 1. 1. 0. 1. 1. 0. 0. 1.]\n",
      " [1. 1. 1. 0. 1. 0. 0. 1. 1.]\n",
      " [1. 1. 1. 0. 1. 0. 0. 0. 1.]\n",
      " [0. 1. 1. 1. 1. 1. 0. 1. 1.]\n",
      " [0. 1. 1. 1. 1. 1. 0. 0. 1.]\n",
      " [0. 0. 1. 1. 1. 1. 0. 1. 0.]\n",
      " [0. 1. 1. 1. 1. 0. 0. 1. 1.]\n",
      " [0. 1. 0. 1. 0. 1. 0. 1. 0.]\n",
      " [0. 0. 0. 1. 1. 1. 0. 1. 0.]\n",
      " [0. 0. 0. 1. 0. 1. 1. 1. 0.]\n",
      " [0. 1. 1. 1. 1. 0. 0. 0. 1.]\n",
      " [0. 0. 1. 1. 1. 1. 1. 1. 0.]\n",
      " [0. 1. 1. 0. 1. 1. 0. 1. 1.]\n",
      " [0. 0. 1. 1. 0. 1. 1. 1. 0.]\n",
      " [0. 0. 0. 1. 0. 1. 1. 1. 0.]\n",
      " [1. 1. 1. 0. 1. 0. 1. 1. 1.]\n",
      " [1. 1. 0. 0. 1. 0. 1. 1. 1.]]\n",
      "----------------------------------------\n",
      "[1. 1. 0. 1. 1. 1. 0. 1. 1. 1. 0. 0. 0. 0. 0. 0. 0. 0. 0. 0. 0. 0. 1. 1.]\n",
      "m =  24\n",
      "n =  9\n",
      "[[1. 1. 1. 1. 1. 1. 0. 1.]\n",
      " [1. 1. 1. 1. 1. 1. 0. 0.]\n",
      " [0. 1. 1. 1. 1. 1. 1. 1.]\n",
      " [1. 1. 1. 1. 1. 0. 0. 1.]\n",
      " [1. 1. 1. 1. 1. 0. 0. 0.]\n",
      " [1. 1. 1. 0. 1. 1. 0. 1.]\n",
      " [0. 1. 0. 1. 1. 1. 0. 1.]\n",
      " [1. 1. 1. 0. 1. 1. 0. 0.]\n",
      " [1. 1. 1. 0. 1. 0. 0. 1.]\n",
      " [1. 1. 1. 0. 1. 0. 0. 0.]\n",
      " [0. 1. 1. 1. 1. 1. 0. 1.]\n",
      " [0. 1. 1. 1. 1. 1. 0. 0.]\n",
      " [0. 0. 1. 1. 1. 1. 0. 1.]\n",
      " [0. 1. 1. 1. 1. 0. 0. 1.]\n",
      " [0. 1. 0. 1. 0. 1. 0. 1.]\n",
      " [0. 0. 0. 1. 1. 1. 0. 1.]\n",
      " [0. 0. 0. 1. 0. 1. 1. 1.]\n",
      " [0. 1. 1. 1. 1. 0. 0. 0.]\n",
      " [0. 0. 1. 1. 1. 1. 1. 1.]\n",
      " [0. 1. 1. 0. 1. 1. 0. 1.]\n",
      " [0. 0. 1. 1. 0. 1. 1. 1.]\n",
      " [0. 0. 0. 1. 0. 1. 1. 1.]\n",
      " [1. 1. 1. 0. 1. 0. 1. 1.]\n",
      " [1. 1. 0. 0. 1. 0. 1. 1.]]\n",
      "[1. 1. 0. 1. 1. 1. 0. 1. 1. 1. 1. 1. 0. 1. 0. 0. 0. 1. 0. 1. 0. 0. 1. 1.]\n",
      "(24, 8)\n",
      "(24,)\n",
      "24\n"
     ]
    }
   ],
   "source": [
    "z = dataset[:,0]\n",
    "print(dataset)\n",
    "print('----------------------------------------')\n",
    "print(z)\n",
    "(m,n) = dataset.shape\n",
    "print('m = ',m)\n",
    "print('n = ',n)\n",
    "print(x)\n",
    "print(y)\n",
    "print(x.shape)\n",
    "print(y.shape)\n",
    "print(y.shape[0])"
   ]
  },
  {
   "cell_type": "code",
   "execution_count": 5,
   "metadata": {},
   "outputs": [],
   "source": [
    "def total_entropy(data):\n",
    "    (m,n) = data.shape\n",
    "    y = data[:,-1]\n",
    "    n_ = np.count_nonzero(y)\n",
    "    n__ = m-n_\n",
    "    p_ = n_/m\n",
    "    p__ = n__/m\n",
    "    if p_==0 or p__==0:\n",
    "        return 0\n",
    "    else:\n",
    "        return(-(p_*np.log2(p_) + p__*np.log2(p__)))"
   ]
  },
  {
   "cell_type": "code",
   "execution_count": 6,
   "metadata": {},
   "outputs": [
    {
     "name": "stdout",
     "output_type": "stream",
     "text": [
      "0.9544340029249649\n"
     ]
    }
   ],
   "source": [
    "print(total_entropy(dataset))"
   ]
  },
  {
   "cell_type": "code",
   "execution_count": 7,
   "metadata": {},
   "outputs": [],
   "source": [
    "def calc_att_entropy(data, i, y):\n",
    "    (m,n) = data.shape\n",
    "    A = data[:,i]\n",
    "    (a_01,a_00,a_11,a_10) = (0,0,0,0)\n",
    "    for i in range(m):\n",
    "        if A[i]==0:\n",
    "            if y[i]==1:\n",
    "                a_01 = a_01 + 1\n",
    "            else:\n",
    "                a_00 = a_00 + 1\n",
    "        if A[i]==1:\n",
    "            if y[i]==1:\n",
    "                a_11 = a_11 + 1\n",
    "            else:\n",
    "                a_10 = a_10 + 1\n",
    "                \n",
    "    if a_01+a_00==0:\n",
    "        p_01 = 0\n",
    "        p_00 = 0\n",
    "    else:\n",
    "        p_01 = a_01/(a_01+a_00)\n",
    "        p_00 = a_00/(a_01+a_00)\n",
    "        \n",
    "    if a_11+a_10==0:\n",
    "        p_11 = 0\n",
    "        p_10 = 0\n",
    "    else:\n",
    "        p_11 = a_11/(a_11+a_10)\n",
    "        p_10 = a_10/(a_11+a_10)\n",
    "    \n",
    "    #p_01 = a_01/(a_01+a_00)\n",
    "    #p_00 = a_00/(a_01+a_00)\n",
    "    #p_11 = a_11/(a_11+a_10)\n",
    "    #p_10 = a_10/(a_11+a_10)\n",
    "    \n",
    "    if p_01==0 or p_00==0:\n",
    "        E0 = 0\n",
    "    else:\n",
    "        E0 = (p_01*np.log2(p_01) + p_00*np.log2(p_00))\n",
    "    if p_11==0 or p_10==0:\n",
    "        E1 = 0\n",
    "    else:\n",
    "        E1 = (p_11*np.log2(p_11) + p_10*np.log2(p_10))\n",
    "            \n",
    "        \n",
    "    #E0 = (p_01*np.log2(p_01) + p_00*np.log2(p_00))\n",
    "    #E1 = (p_11*np.log2(p_11) + p_10*np.log2(p_10))\n",
    "    \n",
    "    E0 = (a_01+a_00)*E0\n",
    "    E1 = (a_11+a_10)*E1\n",
    "    \n",
    "    return(-(E0+E1)/m)\n",
    "                "
   ]
  },
  {
   "cell_type": "code",
   "execution_count": 8,
   "metadata": {},
   "outputs": [],
   "source": [
    "def best_splitter(data):\n",
    "    E_i = total_entropy(data)\n",
    "    (m,n) = data.shape\n",
    "    x = data[:,:-1]\n",
    "    y = data[:,-1]\n",
    "    list_entropy = np.zeros(n-1)\n",
    "    \n",
    "    for i in range(n-1):\n",
    "        list_entropy[i] = calc_att_entropy(data, i, y)\n",
    "    #return list_entropy, np.argmin(list_entropy)\n",
    "    return np.argmin(list_entropy)\n",
    "        "
   ]
  },
  {
   "cell_type": "code",
   "execution_count": 9,
   "metadata": {},
   "outputs": [
    {
     "name": "stdout",
     "output_type": "stream",
     "text": [
      "1\n"
     ]
    }
   ],
   "source": [
    "print(best_splitter(dataset))"
   ]
  },
  {
   "cell_type": "code",
   "execution_count": 10,
   "metadata": {},
   "outputs": [],
   "source": [
    "#d1 = dataset[dataset[:,1]>0]\n",
    "#d1_=dataset[dataset[:,1]==0]\n",
    "#print(d1)\n",
    "#print('-----------------------------------')\n",
    "#print(d1_)\n",
    "#print(d1.shape)\n",
    "#print(d1_.shape)"
   ]
  },
  {
   "cell_type": "code",
   "execution_count": 11,
   "metadata": {},
   "outputs": [],
   "source": [
    "#print(best_splitter(d1_))"
   ]
  },
  {
   "cell_type": "code",
   "execution_count": 12,
   "metadata": {},
   "outputs": [],
   "source": [
    "#print(best_splitter(d1))"
   ]
  },
  {
   "cell_type": "code",
   "execution_count": 13,
   "metadata": {},
   "outputs": [],
   "source": [
    "# d2 = d1[d1[:,0]>0]\n",
    "# d2_=d1[d1[:,0]==0]\n",
    "# print(d2)\n",
    "# print('-----------------------------------')\n",
    "# print(d2_)\n",
    "# print(d2.shape)\n",
    "# print(d2_.shape)"
   ]
  },
  {
   "cell_type": "code",
   "execution_count": 14,
   "metadata": {},
   "outputs": [],
   "source": [
    "#print(best_splitter(d2_))"
   ]
  },
  {
   "cell_type": "code",
   "execution_count": 15,
   "metadata": {},
   "outputs": [],
   "source": [
    "#print(best_splitter(d2))"
   ]
  },
  {
   "cell_type": "code",
   "execution_count": 16,
   "metadata": {},
   "outputs": [],
   "source": [
    "#d3 = d2_[d2_[:,2]>0]\n",
    "#d3_=d2_[d2_[:,2]==0]\n",
    "#print(d3)\n",
    "#print('-----------------------------------')\n",
    "#print(d3_)\n",
    "#print(d3.shape)\n",
    "#print(d3_.shape)"
   ]
  },
  {
   "cell_type": "code",
   "execution_count": 17,
   "metadata": {},
   "outputs": [],
   "source": [
    "#print(best_splitter(d3_))"
   ]
  },
  {
   "cell_type": "code",
   "execution_count": 18,
   "metadata": {},
   "outputs": [],
   "source": [
    "#print(best_splitter(d3))"
   ]
  },
  {
   "cell_type": "code",
   "execution_count": 19,
   "metadata": {},
   "outputs": [],
   "source": [
    "#d4 = d3[d3[:,6]>0]\n",
    "#d4_=d3[d3[:,6]==0]\n",
    "#print(d4)\n",
    "#print('-----------------------------------')\n",
    "#print(d4_)\n",
    "#print(d4.shape)\n",
    "#print(d4_.shape)"
   ]
  },
  {
   "cell_type": "code",
   "execution_count": 20,
   "metadata": {},
   "outputs": [],
   "source": [
    "#print(best_splitter(d4))"
   ]
  },
  {
   "cell_type": "code",
   "execution_count": 21,
   "metadata": {},
   "outputs": [],
   "source": [
    "#print(best_splitter(d4_))"
   ]
  },
  {
   "cell_type": "code",
   "execution_count": 22,
   "metadata": {},
   "outputs": [],
   "source": [
    "class node:\n",
    "    def __init__(self, value = None):\n",
    "        self.val = value\n",
    "        self.left_child = None\n",
    "        self.right_child = None\n",
    "         \n",
    "# class tree:\n",
    "#     def __init__(self, value = None):\n",
    "#         self.root = node(value)\n",
    "        \n",
    "#     def build(self, data, cur_node):\n",
    "#         if total_entropy(data) == 0:\n",
    "#             if data[:,-1][0] == 0:\n",
    "#                 cur_node"
   ]
  },
  {
   "cell_type": "code",
   "execution_count": 23,
   "metadata": {},
   "outputs": [],
   "source": [
    "bst = node()"
   ]
  },
  {
   "cell_type": "code",
   "execution_count": 24,
   "metadata": {},
   "outputs": [],
   "source": [
    "def build_tree(data, bst):\n",
    "    if total_entropy(data) == 0:\n",
    "        if data[:,-1][0] == 0:\n",
    "            if bst == None:\n",
    "                bst = node('N')\n",
    "            else:   \n",
    "                bst.val = 'N'\n",
    "            print(bst.val)\n",
    "        else:\n",
    "            if bst == None:\n",
    "                bst = node('Y')\n",
    "            else: \n",
    "                bst.val = 'Y'\n",
    "            print(bst.val)       \n",
    "    else:\n",
    "        i = best_splitter(data)\n",
    "        if bst == None:\n",
    "            bst = node(i)\n",
    "        else:\n",
    "            bst.val = i\n",
    "        print(bst.val)\n",
    "        bst.left_child = node()\n",
    "        build_tree(data[data[:,i]==0], bst.left_child)\n",
    "        bst.right_child = node()\n",
    "        build_tree(data[data[:,i]>0], bst.right_child) "
   ]
  },
  {
   "cell_type": "code",
   "execution_count": 25,
   "metadata": {},
   "outputs": [
    {
     "name": "stdout",
     "output_type": "stream",
     "text": [
      "1\n",
      "N\n",
      "0\n",
      "2\n",
      "N\n",
      "6\n",
      "Y\n",
      "N\n",
      "Y\n"
     ]
    }
   ],
   "source": [
    "build_tree(dataset, bst)"
   ]
  },
  {
   "cell_type": "code",
   "execution_count": 26,
   "metadata": {},
   "outputs": [
    {
     "name": "stdout",
     "output_type": "stream",
     "text": [
      "{'left_child': <__main__.node instance at 0x7fb4080f1488>, 'right_child': <__main__.node instance at 0x7fb4080f14d0>, 'val': 1}\n",
      "N\n"
     ]
    }
   ],
   "source": [
    "print(bst.__dict__)\n",
    "print(bst.left_child.val)\n"
   ]
  },
  {
   "cell_type": "code",
   "execution_count": 27,
   "metadata": {},
   "outputs": [],
   "source": [
    "def printtree(Treenode):\n",
    "    if Treenode.left_child != None:\n",
    "        printtree (Treenode.left_child)\n",
    "    print (Treenode.val, end=' ')\n",
    "    if Treenode.right_child != None:\n",
    "        printtree (Treenode.right_child)"
   ]
  },
  {
   "cell_type": "code",
   "execution_count": 28,
   "metadata": {},
   "outputs": [
    {
     "name": "stdout",
     "output_type": "stream",
     "text": [
      "N 1 N 2 Y 6 N 0 Y "
     ]
    }
   ],
   "source": [
    "printtree(bst)"
   ]
  },
  {
   "cell_type": "code",
   "execution_count": 32,
   "metadata": {},
   "outputs": [],
   "source": [
    "testset = np.genfromtxt('test2.csv', delimiter = ',')"
   ]
  },
  {
   "cell_type": "code",
   "execution_count": 40,
   "metadata": {},
   "outputs": [
    {
     "name": "stdout",
     "output_type": "stream",
     "text": [
      "[[0. 1. 1. 1. 1. 1. 1. 1.]\n",
      " [1. 0. 0. 0. 0. 0. 0. 0.]\n",
      " [0. 1. 1. 0. 1. 0. 0. 0.]\n",
      " [0. 1. 1. 1. 1. 0. 0. 0.]]\n",
      "(4, 8)\n",
      "4\n"
     ]
    }
   ],
   "source": [
    "print(testset)\n",
    "print(testset.shape)\n",
    "print(testset.shape[0])"
   ]
  },
  {
   "cell_type": "code",
   "execution_count": 41,
   "metadata": {},
   "outputs": [],
   "source": [
    "def give_result(sample, bst):\n",
    "    if bst.val == 'Y':\n",
    "        print('1')\n",
    "        return\n",
    "    if bst.val == 'N':\n",
    "        print('0')\n",
    "        return\n",
    "    if sample[bst.val] == 0:\n",
    "        give_result(sample, bst.left_child)\n",
    "    else:\n",
    "        give_result(sample, bst.right_child)"
   ]
  },
  {
   "cell_type": "code",
   "execution_count": 37,
   "metadata": {},
   "outputs": [],
   "source": [
    "def test_tree(testset, bst):\n",
    "    \n",
    "    for i in range(testset.shape[0]):\n",
    "        give_result(testset[i], bst) "
   ]
  },
  {
   "cell_type": "code",
   "execution_count": 38,
   "metadata": {},
   "outputs": [
    {
     "name": "stdout",
     "output_type": "stream",
     "text": [
      "0\n",
      "0\n",
      "1\n",
      "1\n"
     ]
    }
   ],
   "source": [
    "test_tree(testset, bst)"
   ]
  },
  {
   "cell_type": "code",
   "execution_count": null,
   "metadata": {},
   "outputs": [],
   "source": []
  }
 ],
 "metadata": {
  "kernelspec": {
   "display_name": "Python 2",
   "language": "python",
   "name": "python2"
  },
  "language_info": {
   "codemirror_mode": {
    "name": "ipython",
    "version": 2
   },
   "file_extension": ".py",
   "mimetype": "text/x-python",
   "name": "python",
   "nbconvert_exporter": "python",
   "pygments_lexer": "ipython2",
   "version": "2.7.12"
  }
 },
 "nbformat": 4,
 "nbformat_minor": 2
}
