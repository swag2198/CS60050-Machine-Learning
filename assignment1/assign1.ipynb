{
 "cells": [
  {
   "cell_type": "code",
   "execution_count": 80,
   "metadata": {},
   "outputs": [],
   "source": [
    "import numpy as np\n",
    "from numpy import genfromtxt\n",
    "from __future__ import print_function"
   ]
  },
  {
   "cell_type": "code",
   "execution_count": 7,
   "metadata": {},
   "outputs": [],
   "source": [
    "dataset = genfromtxt('data1.csv', delimiter = ',')"
   ]
  },
  {
   "cell_type": "code",
   "execution_count": 78,
   "metadata": {},
   "outputs": [],
   "source": [
    "#print(dataset)"
   ]
  },
  {
   "cell_type": "code",
   "execution_count": 9,
   "metadata": {},
   "outputs": [
    {
     "name": "stdout",
     "output_type": "stream",
     "text": [
      "(20, 9)\n"
     ]
    }
   ],
   "source": [
    "print(dataset.shape)\n"
   ]
  },
  {
   "cell_type": "code",
   "execution_count": 46,
   "metadata": {},
   "outputs": [
    {
     "name": "stdout",
     "output_type": "stream",
     "text": [
      "(20, 8)\n",
      "(20,)\n"
     ]
    }
   ],
   "source": [
    "x = dataset[:, :-1]\n",
    "y = dataset[:, -1]\n",
    "print(x.shape)\n",
    "print(y.shape)"
   ]
  },
  {
   "cell_type": "code",
   "execution_count": 34,
   "metadata": {},
   "outputs": [
    {
     "name": "stdout",
     "output_type": "stream",
     "text": [
      "[0. 0. 0. 0. 0. 0. 0. 0.]\n"
     ]
    }
   ],
   "source": [
    "hyp = np.zeros(8)\n",
    "prev_hyp_res = 0\n",
    "print(hyp)"
   ]
  },
  {
   "cell_type": "code",
   "execution_count": 43,
   "metadata": {},
   "outputs": [
    {
     "data": {
      "text/plain": [
       "[0, 1, 2, 3, 4, 5, 6, 7, 8, 9, 10, 11, 12, 13, 14, 15, 16, 17, 18]"
      ]
     },
     "execution_count": 43,
     "metadata": {},
     "output_type": "execute_result"
    }
   ],
   "source": [
    "range(x.shape[0]-1)\n",
    "#range(hyp.shape[0])"
   ]
  },
  {
   "cell_type": "code",
   "execution_count": 45,
   "metadata": {},
   "outputs": [
    {
     "name": "stdout",
     "output_type": "stream",
     "text": [
      "[ 1.  1.  1.  1.  1.  1. -1.  1.]\n"
     ]
    }
   ],
   "source": [
    "hyp = x[0]        \n",
    "for i in range(hyp.shape[0]):\n",
    "    if hyp[i]==0:\n",
    "        hyp[i] = -1\n",
    "print(hyp)        "
   ]
  },
  {
   "cell_type": "code",
   "execution_count": 88,
   "metadata": {},
   "outputs": [
    {
     "name": "stdout",
     "output_type": "stream",
     "text": [
      "4,2,3,5,-7\n"
     ]
    }
   ],
   "source": [
    "for i in range(x.shape[0]-1):\n",
    "    if(y[i+1]==1):\n",
    "        for j in range(hyp.shape[0]):\n",
    "            if hyp[j]==1 and x[i+1][j]==1:\n",
    "                continue\n",
    "            elif hyp[j]==1 and x[i+1][j]==0:\n",
    "                hyp[j] = 0\n",
    "            elif hyp[j]==-1 and x[i+1][j]==0:\n",
    "                continue\n",
    "            elif hyp[j]==-1 and x[i+1][j]==1:\n",
    "                hyp[j] = 0\n",
    "count = 0\n",
    "for k in range(hyp.shape[0]):\n",
    "    if hyp[k]==1 or hyp[k]==-1:\n",
    "        count = count + 1\n",
    "        \n",
    "print(count, end=\",\")\n",
    "flag = 0\n",
    "for i in range(hyp.shape[0]):\n",
    "    if flag != count-1:\n",
    "        if hyp[i]==1:\n",
    "            print(i+1, end=',')\n",
    "            flag = flag+1\n",
    "        elif hyp[i]==-1:\n",
    "            print(-i-1,end=',')\n",
    "            flag = flag+1\n",
    "    else:\n",
    "        if hyp[i]==1:\n",
    "            print(i+1)\n",
    "        elif hyp[i]==-1:\n",
    "             print(-i-1)\n",
    "        \n",
    "    "
   ]
  },
  {
   "cell_type": "code",
   "execution_count": null,
   "metadata": {},
   "outputs": [],
   "source": []
  },
  {
   "cell_type": "code",
   "execution_count": null,
   "metadata": {},
   "outputs": [],
   "source": []
  }
 ],
 "metadata": {
  "kernelspec": {
   "display_name": "Python 2",
   "language": "python",
   "name": "python2"
  },
  "language_info": {
   "codemirror_mode": {
    "name": "ipython",
    "version": 2
   },
   "file_extension": ".py",
   "mimetype": "text/x-python",
   "name": "python",
   "nbconvert_exporter": "python",
   "pygments_lexer": "ipython2",
   "version": "2.7.12"
  }
 },
 "nbformat": 4,
 "nbformat_minor": 2
}
