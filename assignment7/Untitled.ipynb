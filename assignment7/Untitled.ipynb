{
 "cells": [
  {
   "cell_type": "code",
   "execution_count": 1,
   "metadata": {},
   "outputs": [],
   "source": [
    "from __future__ import print_function, division\n",
    "import numpy as np"
   ]
  },
  {
   "cell_type": "code",
   "execution_count": 2,
   "metadata": {},
   "outputs": [],
   "source": [
    "dataset = np.genfromtxt('data7.csv', delimiter = ',')"
   ]
  },
  {
   "cell_type": "code",
   "execution_count": 3,
   "metadata": {},
   "outputs": [],
   "source": [
    "x = dataset"
   ]
  },
  {
   "cell_type": "code",
   "execution_count": 4,
   "metadata": {},
   "outputs": [
    {
     "name": "stdout",
     "output_type": "stream",
     "text": [
      "(20, 8)\n",
      "[[1. 1. 1. 1. 1. 1. 0. 1.]\n",
      " [1. 1. 1. 1. 1. 1. 0. 0.]\n",
      " [1. 1. 1. 1. 1. 1. 1. 1.]\n",
      " [1. 1. 1. 1. 1. 0. 0. 1.]\n",
      " [1. 1. 1. 1. 1. 0. 0. 0.]\n",
      " [1. 1. 1. 0. 1. 1. 0. 1.]\n",
      " [1. 1. 0. 1. 1. 1. 0. 1.]\n",
      " [1. 1. 1. 0. 1. 1. 0. 0.]\n",
      " [1. 1. 1. 0. 1. 0. 0. 1.]\n",
      " [1. 1. 1. 0. 1. 0. 0. 0.]\n",
      " [0. 1. 1. 1. 1. 1. 0. 1.]\n",
      " [0. 1. 1. 1. 1. 1. 0. 0.]\n",
      " [1. 0. 1. 1. 1. 1. 0. 1.]\n",
      " [0. 1. 1. 1. 1. 0. 0. 1.]\n",
      " [1. 1. 0. 1. 0. 1. 0. 1.]\n",
      " [1. 0. 0. 1. 1. 1. 0. 1.]\n",
      " [1. 0. 0. 1. 0. 1. 1. 1.]\n",
      " [0. 1. 1. 1. 1. 0. 0. 0.]\n",
      " [1. 0. 1. 1. 1. 1. 1. 1.]\n",
      " [0. 1. 1. 0. 1. 1. 0. 1.]]\n",
      "m =  20\n",
      "n =  8\n"
     ]
    }
   ],
   "source": [
    "print(x.shape)\n",
    "print(x)\n",
    "(m,n) = x.shape\n",
    "print('m = ',m)\n",
    "print('n = ',n)"
   ]
  },
  {
   "cell_type": "code",
   "execution_count": 14,
   "metadata": {},
   "outputs": [],
   "source": [
    "#def dist(x, y):\n",
    "    dist = np.square(x - y)\n",
    "    dist = np.sqrt(dist)\n",
    "    #return dist"
   ]
  },
  {
   "cell_type": "code",
   "execution_count": 21,
   "metadata": {},
   "outputs": [
    {
     "name": "stdout",
     "output_type": "stream",
     "text": [
      "[12  8]\n"
     ]
    }
   ],
   "source": [
    "def dist(x, y):\n",
    "    return np.linalg.norm(x-y)\n",
    "print(np.random.randint(0,m-1, size = 2))"
   ]
  },
  {
   "cell_type": "code",
   "execution_count": 22,
   "metadata": {},
   "outputs": [
    {
     "name": "stdout",
     "output_type": "stream",
     "text": [
      "2.0\n"
     ]
    }
   ],
   "source": [
    "print(dist(x[18],x[19]))"
   ]
  },
  {
   "cell_type": "code",
   "execution_count": 23,
   "metadata": {},
   "outputs": [
    {
     "name": "stdout",
     "output_type": "stream",
     "text": [
      "[[1. 1. 1. 0. 1. 0. 0. 1.]\n",
      " [1. 1. 1. 0. 1. 0. 0. 0.]]\n",
      "[[0.05 0.05 0.05 0.05 0.05 0.05 0.   0.05]]\n"
     ]
    }
   ],
   "source": [
    "prototypes = x[np.random.randint(0, m - 1, size = 2)]\n",
    "print(prototypes)\n",
    "sum1 = np.zeros((1,8))\n",
    "sum1 = sum1 + x[0]\n",
    "print(sum1/m)"
   ]
  },
  {
   "cell_type": "code",
   "execution_count": 29,
   "metadata": {},
   "outputs": [
    {
     "name": "stdout",
     "output_type": "stream",
     "text": [
      "[[1. 0. 1. 1. 1. 1. 1. 1.]\n",
      " [0. 1. 1. 1. 1. 1. 0. 0.]]\n",
      "[array([[1., 0., 1., 1., 1., 1., 1., 1.],\n",
      "       [0., 1., 1., 1., 1., 1., 0., 0.]])]\n",
      "[[0.]\n",
      " [0.]\n",
      " [0.]\n",
      " [0.]\n",
      " [0.]\n",
      " [0.]\n",
      " [0.]\n",
      " [0.]\n",
      " [0.]\n",
      " [0.]\n",
      " [0.]\n",
      " [0.]\n",
      " [0.]\n",
      " [0.]\n",
      " [0.]\n",
      " [0.]\n",
      " [0.]\n",
      " [0.]\n",
      " [0.]\n",
      " [0.]]\n"
     ]
    }
   ],
   "source": [
    "cents = []\n",
    "cent = np.zeros((2,8))\n",
    "for i in range(2):\n",
    "    cent[i] = x[np.random.randint(0, m - 1)]\n",
    "print(cent)\n",
    "cents.append(cent)\n",
    "print(cents)\n",
    "label = np.zeros((m, 1))\n",
    "print(label)"
   ]
  },
  {
   "cell_type": "code",
   "execution_count": 33,
   "metadata": {},
   "outputs": [
    {
     "name": "stdout",
     "output_type": "stream",
     "text": [
      "[[2.]\n",
      " [2.]\n",
      " [1.]\n",
      " [2.]\n",
      " [2.]\n",
      " [2.]\n",
      " [1.]\n",
      " [2.]\n",
      " [2.]\n",
      " [2.]\n",
      " [2.]\n",
      " [2.]\n",
      " [1.]\n",
      " [2.]\n",
      " [1.]\n",
      " [1.]\n",
      " [1.]\n",
      " [2.]\n",
      " [1.]\n",
      " [2.]]\n",
      "[2.]\n",
      "2.0\n"
     ]
    }
   ],
   "source": [
    "for i in range(10):\n",
    "    for j in range(m):\n",
    "        d1 = dist(x[j], cent[0])\n",
    "        d2 = dist(x[j], cent[1])\n",
    "        if d1<d2:\n",
    "            label[j][0] = 1\n",
    "        else:\n",
    "            label[j][0] = 2\n",
    "    count1 = 0\n",
    "    count2 = 0\n",
    "    sum1 = np.zeros((1,8))\n",
    "    sum2 = np.zeros((1,8))\n",
    "    for k in range(m):\n",
    "        if(label[k][0] == 1):\n",
    "            sum1 = sum1 + x[k]\n",
    "            count1 = count1 + 1\n",
    "        else:\n",
    "            sum2 = sum2 + x[k]\n",
    "            count2 = count2 + 1\n",
    "    cent[0] = sum1/count1\n",
    "    cent[1] = sum2/count2\n",
    "    #print(cent)\n",
    "    #print('---')\n",
    "print(label)\n",
    "print(label[0])\n",
    "print(label[0][0])"
   ]
  },
  {
   "cell_type": "code",
   "execution_count": null,
   "metadata": {},
   "outputs": [],
   "source": []
  },
  {
   "cell_type": "code",
   "execution_count": null,
   "metadata": {},
   "outputs": [],
   "source": []
  },
  {
   "cell_type": "code",
   "execution_count": null,
   "metadata": {},
   "outputs": [],
   "source": []
  },
  {
   "cell_type": "code",
   "execution_count": null,
   "metadata": {},
   "outputs": [],
   "source": []
  }
 ],
 "metadata": {
  "kernelspec": {
   "display_name": "Python 2",
   "language": "python",
   "name": "python2"
  },
  "language_info": {
   "codemirror_mode": {
    "name": "ipython",
    "version": 2
   },
   "file_extension": ".py",
   "mimetype": "text/x-python",
   "name": "python",
   "nbconvert_exporter": "python",
   "pygments_lexer": "ipython2",
   "version": "2.7.12"
  }
 },
 "nbformat": 4,
 "nbformat_minor": 2
}
