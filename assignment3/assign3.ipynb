{
 "cells": [
  {
   "cell_type": "code",
   "execution_count": 1,
   "metadata": {},
   "outputs": [],
   "source": [
    "from __future__ import print_function, division\n",
    "import numpy as np"
   ]
  },
  {
   "cell_type": "code",
   "execution_count": 2,
   "metadata": {},
   "outputs": [],
   "source": [
    "dataset = np.genfromtxt('data3.csv', delimiter = ',')\n",
    "x = dataset[:, :-1]\n",
    "y = dataset[:, -1]"
   ]
  },
  {
   "cell_type": "code",
   "execution_count": 3,
   "metadata": {},
   "outputs": [
    {
     "name": "stdout",
     "output_type": "stream",
     "text": [
      "[[1. 1. 1. 1. 1. 1. 0. 1. 1.]\n",
      " [1. 1. 1. 1. 1. 1. 0. 0. 1.]\n",
      " [1. 1. 1. 1. 1. 1. 1. 1. 0.]\n",
      " [1. 1. 1. 1. 1. 0. 0. 1. 1.]\n",
      " [1. 1. 1. 1. 1. 0. 0. 0. 1.]\n",
      " [1. 1. 1. 0. 1. 1. 0. 1. 1.]\n",
      " [1. 1. 0. 1. 1. 1. 0. 1. 0.]\n",
      " [1. 1. 1. 0. 1. 1. 0. 0. 1.]\n",
      " [1. 1. 1. 0. 1. 0. 0. 1. 1.]\n",
      " [1. 1. 1. 0. 1. 0. 0. 0. 1.]\n",
      " [0. 1. 1. 1. 1. 1. 0. 1. 1.]\n",
      " [0. 1. 1. 1. 1. 1. 0. 0. 1.]\n",
      " [1. 0. 1. 1. 1. 1. 0. 1. 0.]\n",
      " [0. 1. 1. 1. 1. 0. 0. 1. 1.]\n",
      " [1. 1. 0. 1. 0. 1. 0. 1. 0.]\n",
      " [1. 0. 0. 1. 1. 1. 0. 1. 0.]\n",
      " [1. 0. 0. 1. 0. 1. 1. 1. 0.]\n",
      " [0. 1. 1. 1. 1. 0. 0. 0. 1.]\n",
      " [1. 0. 1. 1. 1. 1. 1. 1. 0.]\n",
      " [0. 1. 1. 0. 1. 1. 0. 1. 1.]]\n",
      "----------------------------------------\n",
      "[1. 1. 1. 1. 1. 1. 1. 1. 1. 1. 0. 0. 1. 0. 1. 1. 1. 0. 1. 0.]\n",
      "m =  20\n",
      "n =  9\n",
      "[[1. 1. 1. 1. 1. 1. 0. 1.]\n",
      " [1. 1. 1. 1. 1. 1. 0. 0.]\n",
      " [1. 1. 1. 1. 1. 1. 1. 1.]\n",
      " [1. 1. 1. 1. 1. 0. 0. 1.]\n",
      " [1. 1. 1. 1. 1. 0. 0. 0.]\n",
      " [1. 1. 1. 0. 1. 1. 0. 1.]\n",
      " [1. 1. 0. 1. 1. 1. 0. 1.]\n",
      " [1. 1. 1. 0. 1. 1. 0. 0.]\n",
      " [1. 1. 1. 0. 1. 0. 0. 1.]\n",
      " [1. 1. 1. 0. 1. 0. 0. 0.]\n",
      " [0. 1. 1. 1. 1. 1. 0. 1.]\n",
      " [0. 1. 1. 1. 1. 1. 0. 0.]\n",
      " [1. 0. 1. 1. 1. 1. 0. 1.]\n",
      " [0. 1. 1. 1. 1. 0. 0. 1.]\n",
      " [1. 1. 0. 1. 0. 1. 0. 1.]\n",
      " [1. 0. 0. 1. 1. 1. 0. 1.]\n",
      " [1. 0. 0. 1. 0. 1. 1. 1.]\n",
      " [0. 1. 1. 1. 1. 0. 0. 0.]\n",
      " [1. 0. 1. 1. 1. 1. 1. 1.]\n",
      " [0. 1. 1. 0. 1. 1. 0. 1.]]\n",
      "[1. 1. 0. 1. 1. 1. 0. 1. 1. 1. 1. 1. 0. 1. 0. 0. 0. 1. 0. 1.]\n",
      "(20, 8)\n",
      "(20,)\n",
      "20\n"
     ]
    }
   ],
   "source": [
    "z = dataset[:,0]\n",
    "print(dataset)\n",
    "print('----------------------------------------')\n",
    "print(z)\n",
    "(m,n) = dataset.shape\n",
    "print('m = ',m)\n",
    "print('n = ',n)\n",
    "print(x)\n",
    "print(y)\n",
    "print(x.shape)\n",
    "print(y.shape)\n",
    "print(y.shape[0])"
   ]
  },
  {
   "cell_type": "code",
   "execution_count": 28,
   "metadata": {},
   "outputs": [],
   "source": [
    "def p_y(val, y):\n",
    "    m = y.shape[0]\n",
    "    n = np.count_nonzero(y)\n",
    "    n_ = m-n\n",
    "    if val == 0:\n",
    "        return (n_+2)\n",
    "    else:\n",
    "        return (n+2)"
   ]
  },
  {
   "cell_type": "code",
   "execution_count": 29,
   "metadata": {},
   "outputs": [],
   "source": [
    "def pabs_y(val, y):\n",
    "    m = y.shape[0]\n",
    "    n = np.count_nonzero(y)\n",
    "    n_ = m-n\n",
    "    if val == 0:\n",
    "        return (n_)/m\n",
    "    else:\n",
    "        return (n)/m"
   ]
  },
  {
   "cell_type": "code",
   "execution_count": 30,
   "metadata": {},
   "outputs": [
    {
     "name": "stdout",
     "output_type": "stream",
     "text": [
      "0.35\n",
      "0.65\n"
     ]
    }
   ],
   "source": [
    "print(pabs_y(0,y))\n",
    "print(pabs_y(1,y))"
   ]
  },
  {
   "cell_type": "code",
   "execution_count": 31,
   "metadata": {},
   "outputs": [],
   "source": [
    "def p_a_int_y(a, y, a_val, y_val):\n",
    "    m = a.shape[0]\n",
    "    n_int = 1\n",
    "    for i in range(m):\n",
    "        if a[i] == a_val and y[i] == y_val:\n",
    "            n_int = n_int + 1\n",
    "    return n_int       "
   ]
  },
  {
   "cell_type": "code",
   "execution_count": 32,
   "metadata": {},
   "outputs": [],
   "source": [
    "#here i stands for attribute index\n",
    "#i varies from 0 to 7\n",
    "def p_att(x, y, i, att_val, y_val):\n",
    "    (m,n) = x.shape\n",
    "    a = x[:,i]\n",
    "    n_a1 = np.count_nonzero(a)\n",
    "    n_a0 = m - n_a1\n",
    "    if att_val == 0:\n",
    "        if y_val == 0:\n",
    "            #print(p_a_int_y(a, y, 0, 0)/p_y(0, y))\n",
    "            return p_a_int_y(a, y, 0, 0)/p_y(0, y)\n",
    "        if y_val == 1:\n",
    "            #print(p_a_int_y(a, y, 0, 1)/p_y(1, y))\n",
    "            return p_a_int_y(a, y, 0, 1)/p_y(1, y)\n",
    "    elif att_val == 1:\n",
    "        if y_val == 0:\n",
    "            #print(p_a_int_y(a, y, 1, 0)/p_y(0, y))\n",
    "            return p_a_int_y(a, y, 1, 0)/p_y(0, y)\n",
    "        if y_val == 1:\n",
    "            #print(p_a_int_y(a, y, 1, 1)/p_y(1, y))\n",
    "            return p_a_int_y(a, y, 1, 1)/p_y(1, y)"
   ]
  },
  {
   "cell_type": "code",
   "execution_count": 33,
   "metadata": {},
   "outputs": [
    {
     "data": {
      "text/plain": [
       "0.1111111111111111"
      ]
     },
     "execution_count": 33,
     "metadata": {},
     "output_type": "execute_result"
    }
   ],
   "source": [
    "p_att(x,y,0,0,0)"
   ]
  },
  {
   "cell_type": "code",
   "execution_count": 34,
   "metadata": {},
   "outputs": [
    {
     "data": {
      "text/plain": [
       "0.8888888888888888"
      ]
     },
     "execution_count": 34,
     "metadata": {},
     "output_type": "execute_result"
    }
   ],
   "source": [
    "p_att(x,y,0,1,0)"
   ]
  },
  {
   "cell_type": "code",
   "execution_count": 35,
   "metadata": {},
   "outputs": [],
   "source": [
    "testset = np.genfromtxt('test3.csv', delimiter = ',')"
   ]
  },
  {
   "cell_type": "code",
   "execution_count": 36,
   "metadata": {},
   "outputs": [
    {
     "name": "stdout",
     "output_type": "stream",
     "text": [
      "[[0. 1. 1. 1. 1. 1. 1. 1.]\n",
      " [1. 0. 0. 0. 0. 0. 0. 0.]\n",
      " [0. 1. 1. 0. 1. 0. 0. 0.]\n",
      " [0. 1. 1. 1. 1. 0. 0. 0.]]\n",
      "(4, 8)\n",
      "4\n",
      "[0. 1. 1. 1. 1. 1. 1. 1.]\n",
      "8\n",
      "0.0\n"
     ]
    }
   ],
   "source": [
    "print(testset)\n",
    "print(testset.shape)\n",
    "print(testset.shape[0])\n",
    "print(testset[0,:])\n",
    "print(testset[0,:].shape[0])\n",
    "print(testset[0,:][0])"
   ]
  },
  {
   "cell_type": "code",
   "execution_count": 37,
   "metadata": {},
   "outputs": [],
   "source": [
    "def give_prob(x_row, y_val, x_data, y_data):\n",
    "    v_map = pabs_y(y_val,y)\n",
    "    for i in range(x_row.shape[0]):\n",
    "        v_map = v_map * p_att(x_data, y_data, i, x_row[i], y_val)\n",
    "    return v_map    "
   ]
  },
  {
   "cell_type": "code",
   "execution_count": 38,
   "metadata": {},
   "outputs": [],
   "source": [
    "def predict_prob(testset, x_data, y_data):\n",
    "    m = testset.shape[0]\n",
    "    for i in range(m):\n",
    "        a = give_prob(testset[i,:], 0, x_data, y_data)\n",
    "        a_ = give_prob(testset[i,:], 1, x_data, y_data)\n",
    "        print(a, a_)\n",
    "        if a>a_:\n",
    "            print(0)\n",
    "        else:\n",
    "            print(1)"
   ]
  },
  {
   "cell_type": "code",
   "execution_count": 39,
   "metadata": {},
   "outputs": [
    {
     "name": "stdout",
     "output_type": "stream",
     "text": [
      "0.00159856078236 0.00240514423045\n",
      "1\n",
      "2.43921017817e-05 9.39509465021e-06\n",
      "0\n",
      "3.90273628507e-06 0.0171867598134\n",
      "1\n",
      "3.12218902806e-05 0.0257801397202\n",
      "1\n"
     ]
    }
   ],
   "source": [
    "predict_prob(testset, x , y)"
   ]
  },
  {
   "cell_type": "code",
   "execution_count": null,
   "metadata": {},
   "outputs": [],
   "source": []
  }
 ],
 "metadata": {
  "kernelspec": {
   "display_name": "Python 2",
   "language": "python",
   "name": "python2"
  },
  "language_info": {
   "codemirror_mode": {
    "name": "ipython",
    "version": 2
   },
   "file_extension": ".py",
   "mimetype": "text/x-python",
   "name": "python",
   "nbconvert_exporter": "python",
   "pygments_lexer": "ipython2",
   "version": "2.7.12"
  }
 },
 "nbformat": 4,
 "nbformat_minor": 2
}
