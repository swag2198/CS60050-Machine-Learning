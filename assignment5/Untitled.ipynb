{
 "cells": [
  {
   "cell_type": "code",
   "execution_count": 1,
   "metadata": {},
   "outputs": [],
   "source": [
    "from __future__ import print_function, division\n",
    "import numpy as np\n",
    "import pandas as pd"
   ]
  },
  {
   "cell_type": "code",
   "execution_count": 2,
   "metadata": {},
   "outputs": [],
   "source": [
    "#dataset = pd.read_csv('data5.csv')\n",
    "#X = dataset.iloc[:, [2, 3]].values\n",
    "#y = dataset.iloc[:, 4].values\n",
    "dataset = np.genfromtxt('data5.csv', delimiter = ',')\n",
    "X = dataset[:, :-1]\n",
    "y = dataset[:, -1]"
   ]
  },
  {
   "cell_type": "code",
   "execution_count": 3,
   "metadata": {},
   "outputs": [
    {
     "name": "stdout",
     "output_type": "stream",
     "text": [
      "(4601, 58)\n",
      "m =  4601\n",
      "n =  58\n",
      "----------------------------------------\n",
      "x.shape: \n",
      "(4601, 57)\n",
      "y.shape: \n",
      "(4601,)\n",
      "-----------------------------------------\n",
      "4601\n",
      "1.0\n"
     ]
    }
   ],
   "source": [
    "print(dataset.shape)\n",
    "(m,n) = dataset.shape\n",
    "print('m = ',m)\n",
    "print('n = ',n)\n",
    "print('----------------------------------------')\n",
    "print('x.shape: ')\n",
    "print(X.shape)\n",
    "print('y.shape: ')\n",
    "print(y.shape)\n",
    "print('-----------------------------------------')      \n",
    "print(y.shape[0])\n",
    "print(y[0])"
   ]
  },
  {
   "cell_type": "code",
   "execution_count": 4,
   "metadata": {},
   "outputs": [],
   "source": [
    "from sklearn.model_selection import train_test_split\n",
    "X_train, X_test, y_train, y_test = train_test_split(X, y, test_size = 0.30, random_state = 0)\n",
    "\n",
    "from sklearn.preprocessing import StandardScaler\n",
    "sc = StandardScaler()\n",
    "X_train = sc.fit_transform(X_train)\n",
    "X_test = sc.transform(X_test)"
   ]
  },
  {
   "cell_type": "code",
   "execution_count": 6,
   "metadata": {},
   "outputs": [
    {
     "name": "stdout",
     "output_type": "stream",
     "text": [
      "(3220, 57)\n",
      "m =  3220\n",
      "n =  57\n",
      "[[-0.34011564  6.1022582  -0.56352596 ... -0.10439398 -0.18158674\n",
      "  -0.38900445]\n",
      " [ 0.61349489 -0.16444537  0.02965257 ... -0.05742481  0.03888304\n",
      "   0.06276841]\n",
      " [-0.34011564 -0.16444537 -0.56352596 ... -0.10789129 -0.20035012\n",
      "  -0.41445645]\n",
      " ...\n",
      " [ 1.07385859  0.19314114  0.19328803 ...  0.12838358  0.5924029\n",
      "   4.79842971]\n",
      " [-0.34011564 -0.16444537 -0.56352596 ... -0.11642772 -0.18627759\n",
      "  -0.26651674]\n",
      " [-0.34011564 -0.16444537 -0.56352596 ... -0.10537173 -0.21911351\n",
      "  -0.44149919]]\n",
      "----------------------------------------\n",
      "x_test.shape: \n",
      "(1381, 57)\n",
      "y_train.shape: \n",
      "(3220,)\n",
      "-----------------------------------------\n",
      "(1381,)\n"
     ]
    }
   ],
   "source": [
    "print(X_train.shape)\n",
    "(m,n) = X_train.shape\n",
    "print('m = ',m)\n",
    "print('n = ',n)\n",
    "print(X_train)\n",
    "print('----------------------------------------')\n",
    "print('x_test.shape: ')\n",
    "print(X_test.shape)\n",
    "print('y_train.shape: ')\n",
    "print(y_train.shape)\n",
    "print('-----------------------------------------')      \n",
    "print(y_test.shape)"
   ]
  },
  {
   "cell_type": "code",
   "execution_count": 76,
   "metadata": {},
   "outputs": [
    {
     "data": {
      "text/plain": [
       "SVC(C=1000, cache_size=200, class_weight=None, coef0=0.0,\n",
       "  decision_function_shape='ovr', degree=3, gamma='auto_deprecated',\n",
       "  kernel='rbf', max_iter=-1, probability=False, random_state=0,\n",
       "  shrinking=True, tol=0.001, verbose=False)"
      ]
     },
     "execution_count": 76,
     "metadata": {},
     "output_type": "execute_result"
    }
   ],
   "source": [
    "from sklearn.svm import SVC\n",
    "classifier = SVC(C = 1000, kernel = 'rbf', random_state = 0)\n",
    "classifier.fit(X_train, y_train)"
   ]
  },
  {
   "cell_type": "code",
   "execution_count": 77,
   "metadata": {},
   "outputs": [],
   "source": [
    "y_pred = classifier.predict(X_test)\n",
    "y_pred_train = classifier.predict(X_train)\n",
    "\n",
    "from sklearn.metrics import confusion_matrix\n",
    "cm = confusion_matrix(y_test, y_pred)\n",
    "cm_ = confusion_matrix(y_train, y_pred_train)\n",
    "acc_test = (cm[0][0]+cm[1][1])/(cm[0][0]+cm[0][1]+cm[1][0]+cm[1][1])\n",
    "acc_train = (cm_[0][0]+cm_[1][1])/(cm_[0][0]+cm_[0][1]+cm_[1][0]+cm_[1][1])"
   ]
  },
  {
   "cell_type": "code",
   "execution_count": 78,
   "metadata": {},
   "outputs": [
    {
     "name": "stdout",
     "output_type": "stream",
     "text": [
      "[[771  51]\n",
      " [ 65 494]]\n",
      "[[1965    1]\n",
      " [  16 1238]]\n",
      "Test accuracy: \n",
      "91.60028964518465\n",
      "Training accuracy: \n",
      "99.472049689441\n"
     ]
    }
   ],
   "source": [
    "print(cm)\n",
    "print(cm_)\n",
    "print('Test accuracy: ')\n",
    "print(acc_test*100)\n",
    "print('Training accuracy: ')\n",
    "print(acc_train*100)"
   ]
  },
  {
   "cell_type": "code",
   "execution_count": null,
   "metadata": {},
   "outputs": [],
   "source": []
  }
 ],
 "metadata": {
  "kernelspec": {
   "display_name": "Python 2",
   "language": "python",
   "name": "python2"
  },
  "language_info": {
   "codemirror_mode": {
    "name": "ipython",
    "version": 2
   },
   "file_extension": ".py",
   "mimetype": "text/x-python",
   "name": "python",
   "nbconvert_exporter": "python",
   "pygments_lexer": "ipython2",
   "version": "2.7.12"
  }
 },
 "nbformat": 4,
 "nbformat_minor": 2
}
